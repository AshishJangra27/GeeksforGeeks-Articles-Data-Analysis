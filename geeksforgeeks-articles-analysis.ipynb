{
 "cells": [
  {
   "cell_type": "markdown",
   "id": "406d2515",
   "metadata": {
    "papermill": {
     "duration": 0.021666,
     "end_time": "2022-02-23T21:41:21.997914",
     "exception": false,
     "start_time": "2022-02-23T21:41:21.976248",
     "status": "completed"
    },
    "tags": []
   },
   "source": [
    "## 1) Dataset Walkthrough"
   ]
  },
  {
   "cell_type": "code",
   "execution_count": 1,
   "id": "cdd0d4fd",
   "metadata": {
    "_cell_guid": "b1076dfc-b9ad-4769-8c92-a6c4dae69d19",
    "_uuid": "8f2839f25d086af736a60e9eeb907d3b93b6e0e5",
    "execution": {
     "iopub.execute_input": "2022-02-23T21:41:22.045443Z",
     "iopub.status.busy": "2022-02-23T21:41:22.043623Z",
     "iopub.status.idle": "2022-02-23T21:41:22.237833Z",
     "shell.execute_reply": "2022-02-23T21:41:22.238336Z",
     "shell.execute_reply.started": "2022-02-23T21:12:23.042093Z"
    },
    "papermill": {
     "duration": 0.219697,
     "end_time": "2022-02-23T21:41:22.238630",
     "exception": false,
     "start_time": "2022-02-23T21:41:22.018933",
     "status": "completed"
    },
    "tags": []
   },
   "outputs": [
    {
     "name": "stdout",
     "output_type": "stream",
     "text": [
      "/kaggle/input/geeksforgeeks-articles/articles.csv\n"
     ]
    }
   ],
   "source": [
    "import numpy as np # linear algebra\n",
    "import pandas as pd # data processing, CSV file I/O (e.g. pd.read_csv)\n",
    "\n",
    "import os\n",
    "for dirname, _, filenames in os.walk('/kaggle/input'):\n",
    "    for filename in filenames:\n",
    "        print(os.path.join(dirname, filename))\n",
    "        \n",
    "df = pd.read_csv('/kaggle/input/geeksforgeeks-articles/articles.csv')"
   ]
  },
  {
   "cell_type": "code",
   "execution_count": 2,
   "id": "2e4edce7",
   "metadata": {
    "execution": {
     "iopub.execute_input": "2022-02-23T21:41:22.284689Z",
     "iopub.status.busy": "2022-02-23T21:41:22.284074Z",
     "iopub.status.idle": "2022-02-23T21:41:22.315365Z",
     "shell.execute_reply": "2022-02-23T21:41:22.314740Z",
     "shell.execute_reply.started": "2022-02-23T21:12:23.243542Z"
    },
    "papermill": {
     "duration": 0.054598,
     "end_time": "2022-02-23T21:41:22.315517",
     "exception": false,
     "start_time": "2022-02-23T21:41:22.260919",
     "status": "completed"
    },
    "tags": []
   },
   "outputs": [
    {
     "data": {
      "text/plain": [
       "title            0\n",
       "author_id       19\n",
       "last_updated    18\n",
       "link             0\n",
       "category         0\n",
       "dtype: int64"
      ]
     },
     "execution_count": 2,
     "metadata": {},
     "output_type": "execute_result"
    }
   ],
   "source": [
    "df.isnull().sum()"
   ]
  },
  {
   "cell_type": "markdown",
   "id": "c5cf7814",
   "metadata": {
    "papermill": {
     "duration": 0.021051,
     "end_time": "2022-02-23T21:41:22.358097",
     "exception": false,
     "start_time": "2022-02-23T21:41:22.337046",
     "status": "completed"
    },
    "tags": []
   },
   "source": [
    "#### As you can see we're having 19 null vlaues in author_id and 18 in last_update so lets delete these rows."
   ]
  },
  {
   "cell_type": "code",
   "execution_count": 3,
   "id": "89de0910",
   "metadata": {
    "execution": {
     "iopub.execute_input": "2022-02-23T21:41:22.424794Z",
     "iopub.status.busy": "2022-02-23T21:41:22.424099Z",
     "iopub.status.idle": "2022-02-23T21:41:22.433869Z",
     "shell.execute_reply": "2022-02-23T21:41:22.434422Z",
     "shell.execute_reply.started": "2022-02-23T21:12:23.718753Z"
    },
    "papermill": {
     "duration": 0.054868,
     "end_time": "2022-02-23T21:41:22.434600",
     "exception": false,
     "start_time": "2022-02-23T21:41:22.379732",
     "status": "completed"
    },
    "tags": []
   },
   "outputs": [],
   "source": [
    "df.dropna(inplace = True)"
   ]
  },
  {
   "cell_type": "code",
   "execution_count": 4,
   "id": "b5fb7451",
   "metadata": {
    "execution": {
     "iopub.execute_input": "2022-02-23T21:41:22.480986Z",
     "iopub.status.busy": "2022-02-23T21:41:22.480343Z",
     "iopub.status.idle": "2022-02-23T21:41:22.505916Z",
     "shell.execute_reply": "2022-02-23T21:41:22.506527Z",
     "shell.execute_reply.started": "2022-02-23T21:12:23.913840Z"
    },
    "papermill": {
     "duration": 0.050464,
     "end_time": "2022-02-23T21:41:22.506701",
     "exception": false,
     "start_time": "2022-02-23T21:41:22.456237",
     "status": "completed"
    },
    "tags": []
   },
   "outputs": [
    {
     "data": {
      "text/plain": [
       "title           0\n",
       "author_id       0\n",
       "last_updated    0\n",
       "link            0\n",
       "category        0\n",
       "dtype: int64"
      ]
     },
     "execution_count": 4,
     "metadata": {},
     "output_type": "execute_result"
    }
   ],
   "source": [
    "df.isnull().sum()"
   ]
  },
  {
   "cell_type": "code",
   "execution_count": 5,
   "id": "32329700",
   "metadata": {
    "execution": {
     "iopub.execute_input": "2022-02-23T21:41:22.554144Z",
     "iopub.status.busy": "2022-02-23T21:41:22.553491Z",
     "iopub.status.idle": "2022-02-23T21:41:22.567002Z",
     "shell.execute_reply": "2022-02-23T21:41:22.567598Z",
     "shell.execute_reply.started": "2022-02-23T21:12:24.259916Z"
    },
    "papermill": {
     "duration": 0.039028,
     "end_time": "2022-02-23T21:41:22.567766",
     "exception": false,
     "start_time": "2022-02-23T21:41:22.528738",
     "status": "completed"
    },
    "tags": []
   },
   "outputs": [
    {
     "data": {
      "text/html": [
       "<div>\n",
       "<style scoped>\n",
       "    .dataframe tbody tr th:only-of-type {\n",
       "        vertical-align: middle;\n",
       "    }\n",
       "\n",
       "    .dataframe tbody tr th {\n",
       "        vertical-align: top;\n",
       "    }\n",
       "\n",
       "    .dataframe thead th {\n",
       "        text-align: right;\n",
       "    }\n",
       "</style>\n",
       "<table border=\"1\" class=\"dataframe\">\n",
       "  <thead>\n",
       "    <tr style=\"text-align: right;\">\n",
       "      <th></th>\n",
       "      <th>title</th>\n",
       "      <th>author_id</th>\n",
       "      <th>last_updated</th>\n",
       "      <th>link</th>\n",
       "      <th>category</th>\n",
       "    </tr>\n",
       "  </thead>\n",
       "  <tbody>\n",
       "    <tr>\n",
       "      <th>0</th>\n",
       "      <td>5 Best Practices For Writing SQL Joins</td>\n",
       "      <td>priyankab14</td>\n",
       "      <td>21 Feb, 2022</td>\n",
       "      <td>https://www.geeksforgeeks.org/5-best-practices...</td>\n",
       "      <td>easy</td>\n",
       "    </tr>\n",
       "    <tr>\n",
       "      <th>1</th>\n",
       "      <td>Foundation CSS Dropdown Menu</td>\n",
       "      <td>ishankhandelwals</td>\n",
       "      <td>20 Feb, 2022</td>\n",
       "      <td>https://www.geeksforgeeks.org/foundation-css-d...</td>\n",
       "      <td>easy</td>\n",
       "    </tr>\n",
       "    <tr>\n",
       "      <th>2</th>\n",
       "      <td>Top 20 Excel Shortcuts That You Need To Know</td>\n",
       "      <td>priyankab14</td>\n",
       "      <td>17 Feb, 2022</td>\n",
       "      <td>https://www.geeksforgeeks.org/top-20-excel-sho...</td>\n",
       "      <td>easy</td>\n",
       "    </tr>\n",
       "    <tr>\n",
       "      <th>3</th>\n",
       "      <td>Servlet – Fetching Result</td>\n",
       "      <td>nishatiwari1719</td>\n",
       "      <td>17 Feb, 2022</td>\n",
       "      <td>https://www.geeksforgeeks.org/servlet-fetching...</td>\n",
       "      <td>easy</td>\n",
       "    </tr>\n",
       "    <tr>\n",
       "      <th>4</th>\n",
       "      <td>Suffix Sum Array</td>\n",
       "      <td>rohit768</td>\n",
       "      <td>21 Feb, 2022</td>\n",
       "      <td>https://www.geeksforgeeks.org/suffix-sum-array/</td>\n",
       "      <td>easy</td>\n",
       "    </tr>\n",
       "  </tbody>\n",
       "</table>\n",
       "</div>"
      ],
      "text/plain": [
       "                                          title         author_id  \\\n",
       "0        5 Best Practices For Writing SQL Joins       priyankab14   \n",
       "1                  Foundation CSS Dropdown Menu  ishankhandelwals   \n",
       "2  Top 20 Excel Shortcuts That You Need To Know       priyankab14   \n",
       "3                     Servlet – Fetching Result   nishatiwari1719   \n",
       "4                              Suffix Sum Array          rohit768   \n",
       "\n",
       "   last_updated                                               link category  \n",
       "0  21 Feb, 2022  https://www.geeksforgeeks.org/5-best-practices...     easy  \n",
       "1  20 Feb, 2022  https://www.geeksforgeeks.org/foundation-css-d...     easy  \n",
       "2  17 Feb, 2022  https://www.geeksforgeeks.org/top-20-excel-sho...     easy  \n",
       "3  17 Feb, 2022  https://www.geeksforgeeks.org/servlet-fetching...     easy  \n",
       "4  21 Feb, 2022    https://www.geeksforgeeks.org/suffix-sum-array/     easy  "
      ]
     },
     "execution_count": 5,
     "metadata": {},
     "output_type": "execute_result"
    }
   ],
   "source": [
    "df.head()"
   ]
  },
  {
   "cell_type": "markdown",
   "id": "865b9ff0",
   "metadata": {
    "papermill": {
     "duration": 0.022286,
     "end_time": "2022-02-23T21:41:22.613222",
     "exception": false,
     "start_time": "2022-02-23T21:41:22.590936",
     "status": "completed"
    },
    "tags": []
   },
   "source": [
    "## 2.1) Finding the most popular author (in terms of the number of articles)"
   ]
  },
  {
   "cell_type": "code",
   "execution_count": 6,
   "id": "490f1836",
   "metadata": {
    "execution": {
     "iopub.execute_input": "2022-02-23T21:41:22.661864Z",
     "iopub.status.busy": "2022-02-23T21:41:22.661159Z",
     "iopub.status.idle": "2022-02-23T21:41:22.684742Z",
     "shell.execute_reply": "2022-02-23T21:41:22.685308Z",
     "shell.execute_reply.started": "2022-02-23T21:12:24.991702Z"
    },
    "papermill": {
     "duration": 0.049553,
     "end_time": "2022-02-23T21:41:22.685497",
     "exception": false,
     "start_time": "2022-02-23T21:41:22.635944",
     "status": "completed"
    },
    "tags": []
   },
   "outputs": [
    {
     "data": {
      "text/plain": [
       "author_id\n",
       "GeeksforGeeks    11957\n",
       "ManasChhabra2      317\n",
       "Striver            265\n",
       "manjeet_04         246\n",
       "Chinmoy Lenka      192\n",
       "dtype: int64"
      ]
     },
     "execution_count": 6,
     "metadata": {},
     "output_type": "execute_result"
    }
   ],
   "source": [
    "df.groupby('author_id').size().sort_values(ascending = False).head()"
   ]
  },
  {
   "cell_type": "markdown",
   "id": "85b05c30",
   "metadata": {
    "papermill": {
     "duration": 0.022528,
     "end_time": "2022-02-23T21:41:22.731107",
     "exception": false,
     "start_time": "2022-02-23T21:41:22.708579",
     "status": "completed"
    },
    "tags": []
   },
   "source": [
    "## 2.2) Day-wise Analysis of Articles Frequency"
   ]
  },
  {
   "cell_type": "code",
   "execution_count": 7,
   "id": "2e9d0b0a",
   "metadata": {
    "execution": {
     "iopub.execute_input": "2022-02-23T21:41:22.781834Z",
     "iopub.status.busy": "2022-02-23T21:41:22.781175Z",
     "iopub.status.idle": "2022-02-23T21:41:22.979747Z",
     "shell.execute_reply": "2022-02-23T21:41:22.980297Z",
     "shell.execute_reply.started": "2022-02-23T21:24:42.331582Z"
    },
    "papermill": {
     "duration": 0.224741,
     "end_time": "2022-02-23T21:41:22.980493",
     "exception": false,
     "start_time": "2022-02-23T21:41:22.755752",
     "status": "completed"
    },
    "tags": []
   },
   "outputs": [],
   "source": [
    "df = df[df['last_updated'] != 'Easy']\n",
    "df = df[df['last_updated'] != 'Basic']\n",
    "df = df[df['last_updated'] != 'Medium']\n",
    "df = df[df['last_updated'] != 'Hard']\n",
    "df = df[df['last_updated'] != 'Expert']\n",
    "\n",
    "data = df.values\n",
    "\n",
    "\n",
    "day   = []\n",
    "month = []\n",
    "year  = []\n",
    "\n",
    "for i in range(len(data)):\n",
    "    day.append(int(data[i][2].split(' ')[0]))\n",
    "    month.append(data[i][2].split(' ')[1][:-1])\n",
    "    year.append(int(data[i][2].split(' ')[2]))\n",
    "    \n",
    "df['day']   = day\n",
    "df['month'] = month\n",
    "df['year']  = year"
   ]
  },
  {
   "cell_type": "code",
   "execution_count": 8,
   "id": "cfa70e66",
   "metadata": {
    "execution": {
     "iopub.execute_input": "2022-02-23T21:41:23.029514Z",
     "iopub.status.busy": "2022-02-23T21:41:23.028871Z",
     "iopub.status.idle": "2022-02-23T21:41:23.041793Z",
     "shell.execute_reply": "2022-02-23T21:41:23.042414Z",
     "shell.execute_reply.started": "2022-02-23T21:24:50.202584Z"
    },
    "papermill": {
     "duration": 0.039018,
     "end_time": "2022-02-23T21:41:23.042603",
     "exception": false,
     "start_time": "2022-02-23T21:41:23.003585",
     "status": "completed"
    },
    "tags": []
   },
   "outputs": [
    {
     "data": {
      "text/html": [
       "<div>\n",
       "<style scoped>\n",
       "    .dataframe tbody tr th:only-of-type {\n",
       "        vertical-align: middle;\n",
       "    }\n",
       "\n",
       "    .dataframe tbody tr th {\n",
       "        vertical-align: top;\n",
       "    }\n",
       "\n",
       "    .dataframe thead th {\n",
       "        text-align: right;\n",
       "    }\n",
       "</style>\n",
       "<table border=\"1\" class=\"dataframe\">\n",
       "  <thead>\n",
       "    <tr style=\"text-align: right;\">\n",
       "      <th></th>\n",
       "      <th>title</th>\n",
       "      <th>author_id</th>\n",
       "      <th>last_updated</th>\n",
       "      <th>link</th>\n",
       "      <th>category</th>\n",
       "      <th>day</th>\n",
       "      <th>month</th>\n",
       "      <th>year</th>\n",
       "    </tr>\n",
       "  </thead>\n",
       "  <tbody>\n",
       "    <tr>\n",
       "      <th>0</th>\n",
       "      <td>5 Best Practices For Writing SQL Joins</td>\n",
       "      <td>priyankab14</td>\n",
       "      <td>21 Feb, 2022</td>\n",
       "      <td>https://www.geeksforgeeks.org/5-best-practices...</td>\n",
       "      <td>easy</td>\n",
       "      <td>21</td>\n",
       "      <td>Feb</td>\n",
       "      <td>2022</td>\n",
       "    </tr>\n",
       "    <tr>\n",
       "      <th>1</th>\n",
       "      <td>Foundation CSS Dropdown Menu</td>\n",
       "      <td>ishankhandelwals</td>\n",
       "      <td>20 Feb, 2022</td>\n",
       "      <td>https://www.geeksforgeeks.org/foundation-css-d...</td>\n",
       "      <td>easy</td>\n",
       "      <td>20</td>\n",
       "      <td>Feb</td>\n",
       "      <td>2022</td>\n",
       "    </tr>\n",
       "    <tr>\n",
       "      <th>2</th>\n",
       "      <td>Top 20 Excel Shortcuts That You Need To Know</td>\n",
       "      <td>priyankab14</td>\n",
       "      <td>17 Feb, 2022</td>\n",
       "      <td>https://www.geeksforgeeks.org/top-20-excel-sho...</td>\n",
       "      <td>easy</td>\n",
       "      <td>17</td>\n",
       "      <td>Feb</td>\n",
       "      <td>2022</td>\n",
       "    </tr>\n",
       "    <tr>\n",
       "      <th>3</th>\n",
       "      <td>Servlet – Fetching Result</td>\n",
       "      <td>nishatiwari1719</td>\n",
       "      <td>17 Feb, 2022</td>\n",
       "      <td>https://www.geeksforgeeks.org/servlet-fetching...</td>\n",
       "      <td>easy</td>\n",
       "      <td>17</td>\n",
       "      <td>Feb</td>\n",
       "      <td>2022</td>\n",
       "    </tr>\n",
       "    <tr>\n",
       "      <th>4</th>\n",
       "      <td>Suffix Sum Array</td>\n",
       "      <td>rohit768</td>\n",
       "      <td>21 Feb, 2022</td>\n",
       "      <td>https://www.geeksforgeeks.org/suffix-sum-array/</td>\n",
       "      <td>easy</td>\n",
       "      <td>21</td>\n",
       "      <td>Feb</td>\n",
       "      <td>2022</td>\n",
       "    </tr>\n",
       "  </tbody>\n",
       "</table>\n",
       "</div>"
      ],
      "text/plain": [
       "                                          title         author_id  \\\n",
       "0        5 Best Practices For Writing SQL Joins       priyankab14   \n",
       "1                  Foundation CSS Dropdown Menu  ishankhandelwals   \n",
       "2  Top 20 Excel Shortcuts That You Need To Know       priyankab14   \n",
       "3                     Servlet – Fetching Result   nishatiwari1719   \n",
       "4                              Suffix Sum Array          rohit768   \n",
       "\n",
       "   last_updated                                               link category  \\\n",
       "0  21 Feb, 2022  https://www.geeksforgeeks.org/5-best-practices...     easy   \n",
       "1  20 Feb, 2022  https://www.geeksforgeeks.org/foundation-css-d...     easy   \n",
       "2  17 Feb, 2022  https://www.geeksforgeeks.org/top-20-excel-sho...     easy   \n",
       "3  17 Feb, 2022  https://www.geeksforgeeks.org/servlet-fetching...     easy   \n",
       "4  21 Feb, 2022    https://www.geeksforgeeks.org/suffix-sum-array/     easy   \n",
       "\n",
       "   day month  year  \n",
       "0   21   Feb  2022  \n",
       "1   20   Feb  2022  \n",
       "2   17   Feb  2022  \n",
       "3   17   Feb  2022  \n",
       "4   21   Feb  2022  "
      ]
     },
     "execution_count": 8,
     "metadata": {},
     "output_type": "execute_result"
    }
   ],
   "source": [
    "df.head()"
   ]
  },
  {
   "cell_type": "code",
   "execution_count": 9,
   "id": "896dc9e7",
   "metadata": {
    "execution": {
     "iopub.execute_input": "2022-02-23T21:41:23.092977Z",
     "iopub.status.busy": "2022-02-23T21:41:23.092312Z",
     "iopub.status.idle": "2022-02-23T21:41:23.496501Z",
     "shell.execute_reply": "2022-02-23T21:41:23.495962Z",
     "shell.execute_reply.started": "2022-02-23T21:26:15.657060Z"
    },
    "papermill": {
     "duration": 0.430285,
     "end_time": "2022-02-23T21:41:23.496646",
     "exception": false,
     "start_time": "2022-02-23T21:41:23.066361",
     "status": "completed"
    },
    "tags": []
   },
   "outputs": [
    {
     "data": {
      "text/plain": [
       "<AxesSubplot:xlabel='day'>"
      ]
     },
     "execution_count": 9,
     "metadata": {},
     "output_type": "execute_result"
    },
    {
     "data": {
      "image/png": "[encoded data removed]",
      "text/plain": [
       "<Figure size 432x288 with 1 Axes>"
      ]
     },
     "metadata": {
      "needs_background": "light"
     },
     "output_type": "display_data"
    }
   ],
   "source": [
    "df.groupby('day').size().plot(kind = 'bar')"
   ]
  },
  {
   "cell_type": "markdown",
   "id": "f241c764",
   "metadata": {
    "papermill": {
     "duration": 0.024343,
     "end_time": "2022-02-23T21:41:23.546489",
     "exception": false,
     "start_time": "2022-02-23T21:41:23.522146",
     "status": "completed"
    },
    "tags": []
   },
   "source": [
    "## 2.3) Month-wise Analysis of Articles Frequency"
   ]
  },
  {
   "cell_type": "code",
   "execution_count": 10,
   "id": "514e1e56",
   "metadata": {
    "execution": {
     "iopub.execute_input": "2022-02-23T21:41:23.603737Z",
     "iopub.status.busy": "2022-02-23T21:41:23.603010Z",
     "iopub.status.idle": "2022-02-23T21:41:23.949241Z",
     "shell.execute_reply": "2022-02-23T21:41:23.949774Z",
     "shell.execute_reply.started": "2022-02-23T21:27:03.063716Z"
    },
    "papermill": {
     "duration": 0.378858,
     "end_time": "2022-02-23T21:41:23.949956",
     "exception": false,
     "start_time": "2022-02-23T21:41:23.571098",
     "status": "completed"
    },
    "tags": []
   },
   "outputs": [
    {
     "data": {
      "text/plain": [
       "<AxesSubplot:xlabel='month'>"
      ]
     },
     "execution_count": 10,
     "metadata": {},
     "output_type": "execute_result"
    },
    {
     "data": {
      "image/png": "[encoded data removed]",
      "text/plain": [
       "<Figure size 432x288 with 1 Axes>"
      ]
     },
     "metadata": {
      "needs_background": "light"
     },
     "output_type": "display_data"
    }
   ],
   "source": [
    "df.groupby('month').size().plot(kind = 'bar')"
   ]
  },
  {
   "cell_type": "markdown",
   "id": "c3764423",
   "metadata": {
    "papermill": {
     "duration": 0.025934,
     "end_time": "2022-02-23T21:41:24.003637",
     "exception": false,
     "start_time": "2022-02-23T21:41:23.977703",
     "status": "completed"
    },
    "tags": []
   },
   "source": [
    "## 2.4) Year-wise Analysis of Articles Frequency"
   ]
  },
  {
   "cell_type": "code",
   "execution_count": 11,
   "id": "63deb50e",
   "metadata": {
    "execution": {
     "iopub.execute_input": "2022-02-23T21:41:24.059646Z",
     "iopub.status.busy": "2022-02-23T21:41:24.058936Z",
     "iopub.status.idle": "2022-02-23T21:41:24.310687Z",
     "shell.execute_reply": "2022-02-23T21:41:24.310009Z",
     "shell.execute_reply.started": "2022-02-23T21:26:58.590541Z"
    },
    "papermill": {
     "duration": 0.280685,
     "end_time": "2022-02-23T21:41:24.310834",
     "exception": false,
     "start_time": "2022-02-23T21:41:24.030149",
     "status": "completed"
    },
    "tags": []
   },
   "outputs": [
    {
     "data": {
      "text/plain": [
       "<AxesSubplot:xlabel='year'>"
      ]
     },
     "execution_count": 11,
     "metadata": {},
     "output_type": "execute_result"
    },
    {
     "data": {
      "image/png": "[encoded data removed]",
      "text/plain": [
       "<Figure size 432x288 with 1 Axes>"
      ]
     },
     "metadata": {
      "needs_background": "light"
     },
     "output_type": "display_data"
    }
   ],
   "source": [
    "df.groupby('year').size().plot(kind = 'bar')"
   ]
  },
  {
   "cell_type": "markdown",
   "id": "9ec174cf",
   "metadata": {
    "papermill": {
     "duration": 0.027104,
     "end_time": "2022-02-23T21:41:24.365123",
     "exception": false,
     "start_time": "2022-02-23T21:41:24.338019",
     "status": "completed"
    },
    "tags": []
   },
   "source": [
    "## 2.5) Finding articles of your favorite Author"
   ]
  },
  {
   "cell_type": "code",
   "execution_count": 12,
   "id": "82f279d2",
   "metadata": {
    "execution": {
     "iopub.execute_input": "2022-02-23T21:41:24.430700Z",
     "iopub.status.busy": "2022-02-23T21:41:24.430038Z",
     "iopub.status.idle": "2022-02-23T21:41:24.458048Z",
     "shell.execute_reply": "2022-02-23T21:41:24.457540Z",
     "shell.execute_reply.started": "2022-02-23T21:29:03.756906Z"
    },
    "papermill": {
     "duration": 0.065629,
     "end_time": "2022-02-23T21:41:24.458197",
     "exception": false,
     "start_time": "2022-02-23T21:41:24.392568",
     "status": "completed"
    },
    "tags": []
   },
   "outputs": [
    {
     "data": {
      "text/html": [
       "<div>\n",
       "<style scoped>\n",
       "    .dataframe tbody tr th:only-of-type {\n",
       "        vertical-align: middle;\n",
       "    }\n",
       "\n",
       "    .dataframe tbody tr th {\n",
       "        vertical-align: top;\n",
       "    }\n",
       "\n",
       "    .dataframe thead th {\n",
       "        text-align: right;\n",
       "    }\n",
       "</style>\n",
       "<table border=\"1\" class=\"dataframe\">\n",
       "  <thead>\n",
       "    <tr style=\"text-align: right;\">\n",
       "      <th></th>\n",
       "      <th>title</th>\n",
       "      <th>author_id</th>\n",
       "      <th>last_updated</th>\n",
       "      <th>link</th>\n",
       "      <th>category</th>\n",
       "      <th>day</th>\n",
       "      <th>month</th>\n",
       "      <th>year</th>\n",
       "    </tr>\n",
       "  </thead>\n",
       "  <tbody>\n",
       "    <tr>\n",
       "      <th>2786</th>\n",
       "      <td>Puzzle | Probability of finding a job</td>\n",
       "      <td>Chinmoy Lenka</td>\n",
       "      <td>16 Dec, 2019</td>\n",
       "      <td>https://www.geeksforgeeks.org/puzzle-probabili...</td>\n",
       "      <td>easy</td>\n",
       "      <td>16</td>\n",
       "      <td>Dec</td>\n",
       "      <td>2019</td>\n",
       "    </tr>\n",
       "    <tr>\n",
       "      <th>2787</th>\n",
       "      <td>Puzzle | King Octopus and Servants</td>\n",
       "      <td>Chinmoy Lenka</td>\n",
       "      <td>16 Dec, 2019</td>\n",
       "      <td>https://www.geeksforgeeks.org/puzzle-king-octo...</td>\n",
       "      <td>easy</td>\n",
       "      <td>16</td>\n",
       "      <td>Dec</td>\n",
       "      <td>2019</td>\n",
       "    </tr>\n",
       "    <tr>\n",
       "      <th>2788</th>\n",
       "      <td>Puzzle | How long was he walking</td>\n",
       "      <td>Chinmoy Lenka</td>\n",
       "      <td>16 Dec, 2019</td>\n",
       "      <td>https://www.geeksforgeeks.org/puzzle-how-long-...</td>\n",
       "      <td>easy</td>\n",
       "      <td>16</td>\n",
       "      <td>Dec</td>\n",
       "      <td>2019</td>\n",
       "    </tr>\n",
       "    <tr>\n",
       "      <th>2799</th>\n",
       "      <td>Puzzle | Rope Escape</td>\n",
       "      <td>Chinmoy Lenka</td>\n",
       "      <td>13 Dec, 2019</td>\n",
       "      <td>https://www.geeksforgeeks.org/puzzle-rope-escape/</td>\n",
       "      <td>easy</td>\n",
       "      <td>13</td>\n",
       "      <td>Dec</td>\n",
       "      <td>2019</td>\n",
       "    </tr>\n",
       "    <tr>\n",
       "      <th>2828</th>\n",
       "      <td>System.out.println in Java</td>\n",
       "      <td>Chinmoy Lenka</td>\n",
       "      <td>28 Nov, 2019</td>\n",
       "      <td>https://www.geeksforgeeks.org/system-out-print...</td>\n",
       "      <td>easy</td>\n",
       "      <td>28</td>\n",
       "      <td>Nov</td>\n",
       "      <td>2019</td>\n",
       "    </tr>\n",
       "    <tr>\n",
       "      <th>...</th>\n",
       "      <td>...</td>\n",
       "      <td>...</td>\n",
       "      <td>...</td>\n",
       "      <td>...</td>\n",
       "      <td>...</td>\n",
       "      <td>...</td>\n",
       "      <td>...</td>\n",
       "      <td>...</td>\n",
       "    </tr>\n",
       "    <tr>\n",
       "      <th>31059</th>\n",
       "      <td>Hashtable size() Method in Java</td>\n",
       "      <td>Chinmoy Lenka</td>\n",
       "      <td>28 Jun, 2018</td>\n",
       "      <td>https://www.geeksforgeeks.org/hashtable-size-m...</td>\n",
       "      <td>hard</td>\n",
       "      <td>28</td>\n",
       "      <td>Jun</td>\n",
       "      <td>2018</td>\n",
       "    </tr>\n",
       "    <tr>\n",
       "      <th>31069</th>\n",
       "      <td>PriorityQueue toArray() Method in Java</td>\n",
       "      <td>Chinmoy Lenka</td>\n",
       "      <td>10 Dec, 2018</td>\n",
       "      <td>https://www.geeksforgeeks.org/priorityqueue-to...</td>\n",
       "      <td>hard</td>\n",
       "      <td>10</td>\n",
       "      <td>Dec</td>\n",
       "      <td>2018</td>\n",
       "    </tr>\n",
       "    <tr>\n",
       "      <th>34237</th>\n",
       "      <td>Calendar get() method in Java with Examples</td>\n",
       "      <td>Chinmoy Lenka</td>\n",
       "      <td>14 Feb, 2019</td>\n",
       "      <td>https://www.geeksforgeeks.org/calendar-get-met...</td>\n",
       "      <td>expert</td>\n",
       "      <td>14</td>\n",
       "      <td>Feb</td>\n",
       "      <td>2019</td>\n",
       "    </tr>\n",
       "    <tr>\n",
       "      <th>34338</th>\n",
       "      <td>PriorityQueue offer() Method in Java</td>\n",
       "      <td>Chinmoy Lenka</td>\n",
       "      <td>10 Dec, 2018</td>\n",
       "      <td>https://www.geeksforgeeks.org/priorityqueue-of...</td>\n",
       "      <td>expert</td>\n",
       "      <td>10</td>\n",
       "      <td>Dec</td>\n",
       "      <td>2018</td>\n",
       "    </tr>\n",
       "    <tr>\n",
       "      <th>34341</th>\n",
       "      <td>HashSet remove() Method in Java</td>\n",
       "      <td>Chinmoy Lenka</td>\n",
       "      <td>05 Oct, 2021</td>\n",
       "      <td>https://www.geeksforgeeks.org/hashset-remove-m...</td>\n",
       "      <td>expert</td>\n",
       "      <td>5</td>\n",
       "      <td>Oct</td>\n",
       "      <td>2021</td>\n",
       "    </tr>\n",
       "  </tbody>\n",
       "</table>\n",
       "<p>191 rows × 8 columns</p>\n",
       "</div>"
      ],
      "text/plain": [
       "                                             title      author_id  \\\n",
       "2786         Puzzle | Probability of finding a job  Chinmoy Lenka   \n",
       "2787            Puzzle | King Octopus and Servants  Chinmoy Lenka   \n",
       "2788              Puzzle | How long was he walking  Chinmoy Lenka   \n",
       "2799                          Puzzle | Rope Escape  Chinmoy Lenka   \n",
       "2828                    System.out.println in Java  Chinmoy Lenka   \n",
       "...                                            ...            ...   \n",
       "31059              Hashtable size() Method in Java  Chinmoy Lenka   \n",
       "31069       PriorityQueue toArray() Method in Java  Chinmoy Lenka   \n",
       "34237  Calendar get() method in Java with Examples  Chinmoy Lenka   \n",
       "34338         PriorityQueue offer() Method in Java  Chinmoy Lenka   \n",
       "34341              HashSet remove() Method in Java  Chinmoy Lenka   \n",
       "\n",
       "       last_updated                                               link  \\\n",
       "2786   16 Dec, 2019  https://www.geeksforgeeks.org/puzzle-probabili...   \n",
       "2787   16 Dec, 2019  https://www.geeksforgeeks.org/puzzle-king-octo...   \n",
       "2788   16 Dec, 2019  https://www.geeksforgeeks.org/puzzle-how-long-...   \n",
       "2799   13 Dec, 2019  https://www.geeksforgeeks.org/puzzle-rope-escape/   \n",
       "2828   28 Nov, 2019  https://www.geeksforgeeks.org/system-out-print...   \n",
       "...             ...                                                ...   \n",
       "31059  28 Jun, 2018  https://www.geeksforgeeks.org/hashtable-size-m...   \n",
       "31069  10 Dec, 2018  https://www.geeksforgeeks.org/priorityqueue-to...   \n",
       "34237  14 Feb, 2019  https://www.geeksforgeeks.org/calendar-get-met...   \n",
       "34338  10 Dec, 2018  https://www.geeksforgeeks.org/priorityqueue-of...   \n",
       "34341  05 Oct, 2021  https://www.geeksforgeeks.org/hashset-remove-m...   \n",
       "\n",
       "      category  day month  year  \n",
       "2786      easy   16   Dec  2019  \n",
       "2787      easy   16   Dec  2019  \n",
       "2788      easy   16   Dec  2019  \n",
       "2799      easy   13   Dec  2019  \n",
       "2828      easy   28   Nov  2019  \n",
       "...        ...  ...   ...   ...  \n",
       "31059     hard   28   Jun  2018  \n",
       "31069     hard   10   Dec  2018  \n",
       "34237   expert   14   Feb  2019  \n",
       "34338   expert   10   Dec  2018  \n",
       "34341   expert    5   Oct  2021  \n",
       "\n",
       "[191 rows x 8 columns]"
      ]
     },
     "execution_count": 12,
     "metadata": {},
     "output_type": "execute_result"
    }
   ],
   "source": [
    "df[df['author_id'] == 'Chinmoy Lenka']"
   ]
  },
  {
   "cell_type": "markdown",
   "id": "0cca690b",
   "metadata": {
    "papermill": {
     "duration": 0.027313,
     "end_time": "2022-02-23T21:41:24.513424",
     "exception": false,
     "start_time": "2022-02-23T21:41:24.486111",
     "status": "completed"
    },
    "tags": []
   },
   "source": [
    "## 2.6) Finding articles based on tags(like python)"
   ]
  },
  {
   "cell_type": "code",
   "execution_count": 13,
   "id": "38edbff0",
   "metadata": {
    "execution": {
     "iopub.execute_input": "2022-02-23T21:41:24.572706Z",
     "iopub.status.busy": "2022-02-23T21:41:24.571773Z",
     "iopub.status.idle": "2022-02-23T21:41:24.615591Z",
     "shell.execute_reply": "2022-02-23T21:41:24.616625Z",
     "shell.execute_reply.started": "2022-02-23T21:33:07.961084Z"
    },
    "papermill": {
     "duration": 0.075641,
     "end_time": "2022-02-23T21:41:24.616936",
     "exception": false,
     "start_time": "2022-02-23T21:41:24.541295",
     "status": "completed"
    },
    "tags": []
   },
   "outputs": [
    {
     "name": "stdout",
     "output_type": "stream",
     "text": [
      "SciPy – Input and Output https://www.geeksforgeeks.org/scipy-input-and-output/\n",
      "Data Analysis with SciPy https://www.geeksforgeeks.org/data-analysis-with-scipy/\n",
      "SciPy | Curve Fitting https://www.geeksforgeeks.org/scipy-curve-fitting/\n",
      "SciPy – Sparse Matrix Multiplication https://www.geeksforgeeks.org/scipy-sparse-matrix-multiplication/\n",
      "SciPy – Integration https://www.geeksforgeeks.org/scipy-integration/\n",
      "Python | Scipy integrate.quad() method https://www.geeksforgeeks.org/python-scipy-integrate-quad-method/\n",
      "sciPy stats.mean() function | Python https://www.geeksforgeeks.org/scipy-stats-mean-function-python/\n",
      "scipy.spatial – Spatial data structures and algorithms https://www.geeksforgeeks.org/scipy-spatial-spatial-data-structures-and-algorithms/\n",
      "Interquartile Range and Quartile Deviation using NumPy and SciPy https://www.geeksforgeeks.org/interquartile-range-and-quartile-deviation-using-numpy-and-scipy/\n",
      "Orthogonal distance regression using SciPy https://www.geeksforgeeks.org/orthogonal-distance-regression-using-scipy/\n",
      "Python | Scipy integrate.dblquad() method https://www.geeksforgeeks.org/python-scipy-integrate-dblquad-method/\n"
     ]
    }
   ],
   "source": [
    "tag = 'scipy'.lower()\n",
    "\n",
    "data = df.values\n",
    "\n",
    "\n",
    "for i in range(len(data)):\n",
    "    if tag in data[i][0].lower():\n",
    "        print(data[i][0], data[i][3])"
   ]
  },
  {
   "cell_type": "markdown",
   "id": "49daa1dc",
   "metadata": {
    "papermill": {
     "duration": 0.027977,
     "end_time": "2022-02-23T21:41:24.674030",
     "exception": false,
     "start_time": "2022-02-23T21:41:24.646053",
     "status": "completed"
    },
    "tags": []
   },
   "source": [
    "## 2.7) Category Analysis Distribution"
   ]
  },
  {
   "cell_type": "code",
   "execution_count": 14,
   "id": "ef2d7e2f",
   "metadata": {
    "execution": {
     "iopub.execute_input": "2022-02-23T21:41:24.733617Z",
     "iopub.status.busy": "2022-02-23T21:41:24.732891Z",
     "iopub.status.idle": "2022-02-23T21:41:24.925753Z",
     "shell.execute_reply": "2022-02-23T21:41:24.926235Z",
     "shell.execute_reply.started": "2022-02-23T21:35:46.055636Z"
    },
    "papermill": {
     "duration": 0.224182,
     "end_time": "2022-02-23T21:41:24.926429",
     "exception": false,
     "start_time": "2022-02-23T21:41:24.702247",
     "status": "completed"
    },
    "tags": []
   },
   "outputs": [
    {
     "data": {
      "text/plain": [
       "<AxesSubplot:xlabel='category'>"
      ]
     },
     "execution_count": 14,
     "metadata": {},
     "output_type": "execute_result"
    },
    {
     "data": {
      "image/png": "[encoded data removed]",
      "text/plain": [
       "<Figure size 432x288 with 1 Axes>"
      ]
     },
     "metadata": {
      "needs_background": "light"
     },
     "output_type": "display_data"
    }
   ],
   "source": [
    "df.groupby('category').size().sort_values(ascending = True).plot(kind = 'bar')"
   ]
  },
  {
   "cell_type": "code",
   "execution_count": null,
   "id": "0393ea3e",
   "metadata": {
    "papermill": {
     "duration": 0.029401,
     "end_time": "2022-02-23T21:41:24.985886",
     "exception": false,
     "start_time": "2022-02-23T21:41:24.956485",
     "status": "completed"
    },
    "tags": []
   },
   "outputs": [],
   "source": []
  }
 ],
 "metadata": {
  "kernelspec": {
   "display_name": "Python 3",
   "language": "python",
   "name": "python3"
  },
  "language_info": {
   "codemirror_mode": {
    "name": "ipython",
    "version": 3
   },
   "file_extension": ".py",
   "mimetype": "text/x-python",
   "name": "python",
   "nbconvert_exporter": "python",
   "pygments_lexer": "ipython3",
   "version": "3.7.12"
  },
  "papermill": {
   "default_parameters": {},
   "duration": 13.675757,
   "end_time": "2022-02-23T21:41:25.625723",
   "environment_variables": {},
   "exception": null,
   "input_path": "__notebook__.ipynb",
   "output_path": "__notebook__.ipynb",
   "parameters": {},
   "start_time": "2022-02-23T21:41:11.949966",
   "version": "2.3.3"
  }
 },
 "nbformat": 4,
 "nbformat_minor": 5
}
